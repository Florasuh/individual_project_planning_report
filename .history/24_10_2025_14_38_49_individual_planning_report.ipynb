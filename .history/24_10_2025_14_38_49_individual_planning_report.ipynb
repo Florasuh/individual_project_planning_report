{
 "cells": [
  {
   "cell_type": "markdown",
   "id": "51523b60-1797-4624-bfad-f172515a0159",
   "metadata": {},
   "source": [
    "# Individual Planning Report\n",
    "\n",
    "**Name:** Flora Suh \n",
    "\n",
    "**GitHub Repo:** \n",
    "\n",
    "**Project Question Chosen:** "
   ]
  },
  {
   "cell_type": "markdown",
   "id": "2a90c527-e8f6-4a32-9d48-9b8d5405eb3c",
   "metadata": {},
   "source": [
    "# (1) Data Description:\n",
    "\n",
    "I decided to look into the players.csv file, which includes a list of all unique players, including data about each player:\n",
    "\n"
   ]
  },
  {
   "cell_type": "code",
   "execution_count": null,
   "id": "7ea88354-be5e-4839-ad05-3b1c3af3674d",
   "metadata": {},
   "outputs": [],
   "source": [
    "install.packages(\"tidyverse\")  \n",
    "library(tidyverse)\n",
    "library(dplyr)"
   ]
  },
  {
   "cell_type": "code",
   "execution_count": null,
   "id": "5bf6428e-c88e-4a67-ae70-9c10053de317",
   "metadata": {},
   "outputs": [],
   "source": [
    "players <- read_csv(\"https://raw.githubusercontent.com/Florasuh/individual_project_planning_report/main/players.csv\")\n",
    "\n",
    "players"
   ]
  },
  {
   "cell_type": "markdown",
   "id": "8034701e-7bfa-4247-8b2e-08907d45f61b",
   "metadata": {},
   "source": [
    "## General Overview\n",
    "\n",
    "Number of observations (rows): 150\n",
    "\n",
    "Number of variables (columns): 7\n",
    "\n",
    "Purpose: Contains information about players’ experience, subscription status, email, hours played, name, gener, and age.\n",
    "\n",
    "Unit of observation: Each row represents a unique player.\n",
    "\n",
    "Data Collection: A MineCraft server Links to an external site, and players' actions are recorded as they navigate through the world.\n",
    "\n"
   ]
  },
  {
   "cell_type": "markdown",
   "id": "56b2028b-eea9-4d29-8e35-e198e8fd0c70",
   "metadata": {},
   "source": [
    "## Variable Descriptions:\n",
    "\n",
    "experience:\n",
    "\n",
    "- Type: Chr\n",
    "\n",
    "- Description: Represents the player’s skill level (Beginner, Amateur, Regular, Veteran, Pro).\n",
    "\n",
    "- Notes/Issues: Subjective, could be treated as an ordered variable, some categories may be underrepresented.\n",
    "\n",
    "\n",
    "subscribe:\n",
    "\n",
    "- Type: lgl \n",
    "\n",
    "- Description: Indicates whether the player has an active subscription (TRUE for subscribed, FALSE for not).\n",
    "\n",
    "- Notes/Issues: More subscribed players than unsubscribed.\n",
    "\n",
    "\n",
    "hashedEmail:\n",
    "\n",
    "- Type: Chr\n",
    "\n",
    "- Description: Unique hashed identifier for each player’s email address\n",
    "\n",
    "- Notes/Issues: May not be useful\n",
    "\n",
    "\n",
    "played_hours:\n",
    "\n",
    "- Type: dbl\n",
    "  \n",
    "- Description: Total hours each player has spent playing.\n",
    "\n",
    "- Notes/Issues: Extreme outliers (up to 223 hours), some players have values near zero.\n",
    "\n",
    "\n",
    "name:\n",
    "\n",
    "- Type: Chr\n",
    "\n",
    "- Description: Player’s first name\n",
    "\n",
    "- Notes/Issues: Not useful for quantitative analysis.\n",
    "\n",
    "\n",
    "gender:\n",
    "\n",
    "- Type: Chr\n",
    "\n",
    "- Description: Player’s gender identity (Male, Female, Non-binary, Two-Spirited, Agender, Prefer not to say, Other)\n",
    "\n",
    "- Notes/Issues: Possible inconsistencies or missing entries.\n",
    "\n",
    "\n",
    "age:\n",
    "\n",
    "- Type: dbl\n",
    "\n",
    "- Description: Player’s age in years.\n",
    "\n",
    "- Notes/Issues: Ranges from 9 to 58 years old, with a few missing value\n",
    "\n",
    "\n",
    "\n"
   ]
  },
  {
   "cell_type": "markdown",
   "id": "61c8cf9b-9614-4a7e-893f-fc12a02b8483",
   "metadata": {},
   "source": [
    "## Summary Statistics: ##"
   ]
  },
  {
   "cell_type": "code",
   "execution_count": null,
   "id": "64807a67-8dfa-4570-9cb9-22a806b272bf",
   "metadata": {},
   "outputs": [],
   "source": [
    "hours <- players |>\n",
    "summarize(mean_hours = mean(played_hours, na.rm = TRUE),\n",
    "          max_hours  = max(played_hours, na.rm = TRUE),\n",
    "          min_hours  = min(played_hours, na.rm = TRUE))\n",
    "\n",
    "\n",
    "hours"
   ]
  },
  {
   "cell_type": "code",
   "execution_count": null,
   "id": "af3acb8a-8f17-44b7-a0e9-c6138da759f0",
   "metadata": {},
   "outputs": [],
   "source": [
    "age <- players |>\n",
    "summarize(mean_age = mean(Age, na.rm = TRUE),\n",
    "          max_age  = max(Age, na.rm = TRUE),\n",
    "          min_age  = min(Age, na.rm = TRUE))\n",
    "\n",
    "age"
   ]
  },
  {
   "cell_type": "markdown",
   "id": "79b62eae-a437-40c8-8b84-7ab0bbb5a23a",
   "metadata": {},
   "source": [
    "## Potential Issues:\n",
    "- Missing Data: Some missing values in Age and possibly gender.\n",
    "- Outliers: Extreme values in played_hours\n",
    "- Data Imbalances\n",
    "- Self-report bias"
   ]
  },
  {
   "cell_type": "code",
   "execution_count": null,
   "id": "60bd5fe6-84ab-4250-9c1a-b2dc978838ce",
   "metadata": {},
   "outputs": [],
   "source": []
  }
 ],
 "metadata": {
  "kernelspec": {
   "display_name": "R",
   "language": "R",
   "name": "ir"
  },
  "language_info": {
   "codemirror_mode": "r",
   "file_extension": ".r",
   "mimetype": "text/x-r-source",
   "name": "R",
   "pygments_lexer": "r",
   "version": "4.3.3"
  }
 },
 "nbformat": 4,
 "nbformat_minor": 5
}
