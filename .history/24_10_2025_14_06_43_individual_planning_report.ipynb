{
 "cells": [
  {
   "cell_type": "markdown",
   "id": "51523b60-1797-4624-bfad-f172515a0159",
   "metadata": {},
   "source": [
    "# Individual Planning Report\n",
    "\n",
    "**Name:** Flora Suh \n",
    "\n",
    "**GitHub Repo:** \n",
    "\n",
    "**Project Question Chosen:** "
   ]
  },
  {
   "cell_type": "markdown",
   "id": "2a90c527-e8f6-4a32-9d48-9b8d5405eb3c",
   "metadata": {},
   "source": [
    "# (1) Data Description:\n",
    "\n",
    "Provide a full descriptive summary of the dataset, including information such as the number of observations, summary statistics (report values to 2 decimal places), number of variables, name and type of variables, what the variables mean, any issues you see in the data, any other potential issues related to things you cannot directly see, how the data were collected, etc. Make sure to use bullet point lists or tables to summarize the variables in an easy-to-understand format.\n",
    "\n",
    "Note that the selected dataset(s) will probably contain more variables than you need. In fact, exploring how the different variables in the dataset affect your model may be a crucial part of the project. You need to summarize the full data regardless of which variables you may choose to use later on.\n",
    "\n",
    "\n",
    "\n"
   ]
  },
  {
   "cell_type": "code",
   "execution_count": null,
   "id": "7ea88354-be5e-4839-ad05-3b1c3af3674d",
   "metadata": {},
   "outputs": [],
   "source": [
    "install.packages(\"tidyverse\")  \n",
    "library(tidyverse)"
   ]
  },
  {
   "cell_type": "code",
   "execution_count": null,
   "id": "5bf6428e-c88e-4a67-ae70-9c10053de317",
   "metadata": {},
   "outputs": [],
   "source": [
    "players <- read_csv(\"https://raw.githubusercontent.com/Florasuh/individual_project_planning_report/main/players.csv\")\n",
    "\n",
    "players"
   ]
  },
  {
   "cell_type": "markdown",
   "id": "8034701e-7bfa-4247-8b2e-08907d45f61b",
   "metadata": {},
   "source": [
    "## General Overview\n",
    "\n",
    "Number of observations (rows): 150\n",
    "\n",
    "Number of variables (columns): 7\n",
    "\n",
    "Purpose: Contains information about players’ experience, subscription status, email, hours played, name, gener, and age.\n",
    "\n",
    "Unit of observation: Each row represents a unique player.\n",
    "\n",
    "\n",
    "\n",
    "Variable Descriptions:\n",
    "\n",
    "experience:\n",
    "\n",
    "- Type: Chr\n",
    "\n",
    "- Description: Represents the player’s skill level (Beginner, Amateur, Regular, Veteran, Pro).\n",
    "\n",
    "- Notes/Issues: Subjective, could be treated as an ordered variable, some categories may be underrepresented.\n",
    "\n",
    "\n",
    "subscribe:\n",
    "\n",
    "- Type: lgl \n",
    "\n",
    "- Description: Indicates whether the player has an active subscription (TRUE for subscribed, FALSE for not).\n",
    "\n",
    "- Notes/Issues: More subscribed players than unsubscribed.\n",
    "\n",
    "\n",
    "hashedEmail:\n",
    "\n",
    "- Type: Chr\n",
    "\n",
    "- Description: Unique hashed identifier for each player’s email address\n",
    "\n",
    "- Notes/Issues: May not be useful\n",
    "\n",
    "\n",
    "played_hours:\n",
    "\n",
    "- Type: dbl\n",
    "  \n",
    "- Description: Total hours each player has spent playing.\n",
    "\n",
    "- Notes/Issues: Extreme outliers (up to 223 hours), some players have values near zero.\n",
    "\n",
    "\n",
    "name:\n",
    "\n",
    "- Type: Chr\n",
    "\n",
    "- Description: Player’s first name\n",
    "\n",
    "- Notes/Issues:not useful for quantitative analysis.\n",
    "\n",
    "\n",
    "gender:\n",
    "\n",
    "Type: Categorical (factor)\n",
    "\n",
    "Description: Player’s gender identity, which includes categories such as Male, Female, Non-binary, Two-Spirited, Agender, Prefer not to say, and Other.\n",
    "\n",
    "Notes/Issues: Minor imbalance among categories; possible inconsistencies or missing entries.\n",
    "\n",
    "- Age:\n",
    "\n",
    "Type: Numeric (integer)\n",
    "\n",
    "Description: Player’s age in years.\n",
    "\n",
    "Notes/Issues: Ranges from 9 to 58 years old, with a few missing values. Some unusually young or old ages may need verification.\n"
   ]
  },
  {
   "cell_type": "code",
   "execution_count": null,
   "id": "fb555c71-599d-4484-92c4-86eaf6ce673f",
   "metadata": {},
   "outputs": [],
   "source": []
  }
 ],
 "metadata": {
  "kernelspec": {
   "display_name": "R",
   "language": "R",
   "name": "ir"
  },
  "language_info": {
   "codemirror_mode": "r",
   "file_extension": ".r",
   "mimetype": "text/x-r-source",
   "name": "R",
   "pygments_lexer": "r",
   "version": "4.3.3"
  }
 },
 "nbformat": 4,
 "nbformat_minor": 5
}
