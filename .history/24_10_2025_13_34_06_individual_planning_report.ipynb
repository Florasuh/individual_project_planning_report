{
 "cells": [
  {
   "cell_type": "markdown",
   "id": "51523b60-1797-4624-bfad-f172515a0159",
   "metadata": {},
   "source": [
    "# Individual Planning Report\n",
    "\n",
    "**Name:** Flora Suh \n",
    "\n",
    "**GitHub Repo:** \n",
    "\n",
    "**Project Question Chosen:** "
   ]
  },
  {
   "cell_type": "markdown",
   "id": "2a90c527-e8f6-4a32-9d48-9b8d5405eb3c",
   "metadata": {},
   "source": [
    "# (1) Data Description:\n",
    "\n",
    "Provide a full descriptive summary of the dataset, including information such as the number of observations, summary statistics (report values to 2 decimal places), number of variables, name and type of variables, what the variables mean, any issues you see in the data, any other potential issues related to things you cannot directly see, how the data were collected, etc. Make sure to use bullet point lists or tables to summarize the variables in an easy-to-understand format.\n",
    "\n",
    "Note that the selected dataset(s) will probably contain more variables than you need. In fact, exploring how the different variables in the dataset affect your model may be a crucial part of the project. You need to summarize the full data regardless of which variables you may choose to use later on."
   ]
  },
  {
   "cell_type": "code",
   "execution_count": null,
   "id": "7ea88354-be5e-4839-ad05-3b1c3af3674d",
   "metadata": {},
   "outputs": [],
   "source": []
  }
 ],
 "metadata": {
  "kernelspec": {
   "display_name": "R",
   "language": "R",
   "name": "ir"
  },
  "language_info": {
   "codemirror_mode": "r",
   "file_extension": ".r",
   "mimetype": "text/x-r-source",
   "name": "R",
   "pygments_lexer": "r",
   "version": "4.3.3"
  }
 },
 "nbformat": 4,
 "nbformat_minor": 5
}
