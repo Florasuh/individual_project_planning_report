{
 "cells": [
  {
   "cell_type": "markdown",
   "id": "51523b60-1797-4624-bfad-f172515a0159",
   "metadata": {},
   "source": [
    "# Individual Planning Report\n",
    "\n",
    "**Name:** Flora Suh \n",
    "\n",
    "**GitHub Repo:** \n",
    "\n",
    "**Project Question Chosen:** "
   ]
  },
  {
   "cell_type": "code",
   "execution_count": null,
   "id": "f67b5b18-4d10-480d-a050-5f8f5b11ebc9",
   "metadata": {},
   "outputs": [],
   "source": []
  }
 ],
 "metadata": {
  "kernelspec": {
   "display_name": "R",
   "language": "R",
   "name": "ir"
  },
  "language_info": {
   "codemirror_mode": "r",
   "file_extension": ".r",
   "mimetype": "text/x-r-source",
   "name": "R",
   "pygments_lexer": "r",
   "version": "4.3.3"
  }
 },
 "nbformat": 4,
 "nbformat_minor": 5
}
